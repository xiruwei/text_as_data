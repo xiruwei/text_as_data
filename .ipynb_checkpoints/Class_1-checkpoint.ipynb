{
 "cells": [
  {
   "cell_type": "markdown",
   "id": "2bac53eb93201d40",
   "metadata": {},
   "source": [
    "### Welcome to SOC 2070 - Text as Data for Social Science Research"
   ]
  },
  {
   "cell_type": "markdown",
   "id": "f9c60cac082cf24c",
   "metadata": {},
   "source": [
    "This is a Markdown cell; it contains formatted text. We'll be using Markdown cells to describe what we are doing with the code and to discuss the results.\n",
    "\n",
    "Make sure you have opened this notebook using the correct Python environment.\n",
    "\n",
    "From the terminal (if using MacOS) or from Anaconda Prompt, you should have run:\n",
    "```\n",
    "conda create -n text_as_data python=3.10\n",
    "conda activate text_as_data\n",
    "conda install anaconda::jupyter\n",
    "conda install anaconda::pandas\n",
    "```"
   ]
  },
  {
   "cell_type": "code",
   "execution_count": 1,
   "id": "8f5cb01b0f32a427",
   "metadata": {
    "ExecuteTime": {
     "end_time": "2024-01-17T16:36:43.652710Z",
     "start_time": "2024-01-17T16:36:43.646683Z"
    }
   },
   "outputs": [
    {
     "name": "stdout",
     "output_type": "stream",
     "text": [
      "Welcome\n"
     ]
    }
   ],
   "source": [
    "#This is a comment in a code cell. Below, we'll write a python line to print a string:\n",
    "print(\"Welcome\")"
   ]
  },
  {
   "cell_type": "markdown",
   "id": "637ae4fb588eb565",
   "metadata": {},
   "source": [
    "Above, you can see the code cell, and directly attached to it, the result from the python code we ran. Since we asked to print the word \"Welcome\", we see this word printed there. "
   ]
  },
  {
   "cell_type": "code",
   "execution_count": null,
   "id": "8eeefb2ab6b64d6a",
   "metadata": {},
   "outputs": [],
   "source": [
    "import pandas as pd "
   ]
  }
 ],
 "metadata": {
  "kernelspec": {
   "display_name": "Python 3 (ipykernel)",
   "language": "python",
   "name": "python3"
  },
  "language_info": {
   "codemirror_mode": {
    "name": "ipython",
    "version": 3
   },
   "file_extension": ".py",
   "mimetype": "text/x-python",
   "name": "python",
   "nbconvert_exporter": "python",
   "pygments_lexer": "ipython3",
   "version": "3.11.4"
  }
 },
 "nbformat": 4,
 "nbformat_minor": 5
}
